{
  "nbformat": 4,
  "nbformat_minor": 0,
  "metadata": {
    "colab": {
      "provenance": [],
      "gpuType": "T4"
    },
    "kernelspec": {
      "name": "python3",
      "display_name": "Python 3"
    },
    "language_info": {
      "name": "python"
    },
    "accelerator": "GPU"
  },
  "cells": [
    {
      "cell_type": "code",
      "execution_count": null,
      "metadata": {
        "id": "j5iQtSHfqLjM",
        "colab": {
          "base_uri": "https://localhost:8080/"
        },
        "outputId": "f9212b2e-947c-4803-bc6c-c04988c5acfb"
      },
      "outputs": [
        {
          "output_type": "stream",
          "name": "stdout",
          "text": [
            "Collecting rdkit-pypi\n",
            "  Downloading rdkit_pypi-2022.9.5-cp310-cp310-manylinux_2_17_x86_64.manylinux2014_x86_64.whl (29.4 MB)\n",
            "\u001b[2K     \u001b[90m━━━━━━━━━━━━━━━━━━━━━━━━━━━━━━━━━━━━━━━━\u001b[0m \u001b[32m29.4/29.4 MB\u001b[0m \u001b[31m18.3 MB/s\u001b[0m eta \u001b[36m0:00:00\u001b[0m\n",
            "\u001b[?25hRequirement already satisfied: numpy in /usr/local/lib/python3.10/dist-packages (from rdkit-pypi) (1.25.2)\n",
            "Requirement already satisfied: Pillow in /usr/local/lib/python3.10/dist-packages (from rdkit-pypi) (9.4.0)\n",
            "Installing collected packages: rdkit-pypi\n",
            "Successfully installed rdkit-pypi-2022.9.5\n",
            "Requirement already satisfied: pandas in /usr/local/lib/python3.10/dist-packages (2.0.3)\n",
            "Requirement already satisfied: python-dateutil>=2.8.2 in /usr/local/lib/python3.10/dist-packages (from pandas) (2.8.2)\n",
            "Requirement already satisfied: pytz>=2020.1 in /usr/local/lib/python3.10/dist-packages (from pandas) (2023.4)\n",
            "Requirement already satisfied: tzdata>=2022.1 in /usr/local/lib/python3.10/dist-packages (from pandas) (2024.1)\n",
            "Requirement already satisfied: numpy>=1.21.0 in /usr/local/lib/python3.10/dist-packages (from pandas) (1.25.2)\n",
            "Requirement already satisfied: six>=1.5 in /usr/local/lib/python3.10/dist-packages (from python-dateutil>=2.8.2->pandas) (1.16.0)\n",
            "Collecting PubChemPy\n",
            "  Downloading PubChemPy-1.0.4.tar.gz (29 kB)\n",
            "  Preparing metadata (setup.py) ... \u001b[?25l\u001b[?25hdone\n",
            "Building wheels for collected packages: PubChemPy\n",
            "  Building wheel for PubChemPy (setup.py) ... \u001b[?25l\u001b[?25hdone\n",
            "  Created wheel for PubChemPy: filename=PubChemPy-1.0.4-py3-none-any.whl size=13820 sha256=98f5a13c650ae29520e4421f5c2de7ecc3c62e218cedf55a0ed217b5bd5a8229\n",
            "  Stored in directory: /root/.cache/pip/wheels/90/7c/45/18a0671e3c3316966ef7ed9ad2b3f3300a7e41d3421a44e799\n",
            "Successfully built PubChemPy\n",
            "Installing collected packages: PubChemPy\n",
            "Successfully installed PubChemPy-1.0.4\n",
            "Collecting py3dmol\n",
            "  Downloading py3Dmol-2.1.0-py2.py3-none-any.whl (12 kB)\n",
            "Installing collected packages: py3dmol\n",
            "Successfully installed py3dmol-2.1.0\n",
            "Collecting pyxtal\n",
            "  Downloading pyxtal-0.6.4-py3-none-any.whl (2.8 MB)\n",
            "\u001b[2K     \u001b[90m━━━━━━━━━━━━━━━━━━━━━━━━━━━━━━━━━━━━━━━━\u001b[0m \u001b[32m2.8/2.8 MB\u001b[0m \u001b[31m1.0 MB/s\u001b[0m eta \u001b[36m0:00:00\u001b[0m\n",
            "\u001b[?25hCollecting spglib>=1.10.4 (from pyxtal)\n",
            "  Downloading spglib-2.4.0-cp310-cp310-manylinux_2_17_x86_64.whl (809 kB)\n",
            "\u001b[2K     \u001b[90m━━━━━━━━━━━━━━━━━━━━━━━━━━━━━━━━━━━━━━━━\u001b[0m \u001b[32m809.2/809.2 kB\u001b[0m \u001b[31m60.2 MB/s\u001b[0m eta \u001b[36m0:00:00\u001b[0m\n",
            "\u001b[?25hCollecting pymatgen>=2024.3.1 (from pyxtal)\n",
            "  Downloading pymatgen-2024.4.13-cp310-cp310-manylinux_2_17_x86_64.manylinux2014_x86_64.whl (10.0 MB)\n",
            "\u001b[2K     \u001b[90m━━━━━━━━━━━━━━━━━━━━━━━━━━━━━━━━━━━━━━━━\u001b[0m \u001b[32m10.0/10.0 MB\u001b[0m \u001b[31m73.0 MB/s\u001b[0m eta \u001b[36m0:00:00\u001b[0m\n",
            "\u001b[?25hRequirement already satisfied: pandas>=2.0.2 in /usr/local/lib/python3.10/dist-packages (from pyxtal) (2.0.3)\n",
            "Requirement already satisfied: networkx>=2.3 in /usr/local/lib/python3.10/dist-packages (from pyxtal) (3.3)\n",
            "Collecting ase>=3.18.0 (from pyxtal)\n",
            "  Downloading ase-3.22.1-py3-none-any.whl (2.2 MB)\n",
            "\u001b[2K     \u001b[90m━━━━━━━━━━━━━━━━━━━━━━━━━━━━━━━━━━━━━━━━\u001b[0m \u001b[32m2.2/2.2 MB\u001b[0m \u001b[31m56.3 MB/s\u001b[0m eta \u001b[36m0:00:00\u001b[0m\n",
            "\u001b[?25hRequirement already satisfied: scipy>=1.7.3 in /usr/local/lib/python3.10/dist-packages (from pyxtal) (1.11.4)\n",
            "Requirement already satisfied: importlib-metadata>=1.4 in /usr/local/lib/python3.10/dist-packages (from pyxtal) (7.1.0)\n",
            "Requirement already satisfied: matplotlib>=3.1.0 in /usr/local/lib/python3.10/dist-packages (from ase>=3.18.0->pyxtal) (3.7.1)\n",
            "Requirement already satisfied: numpy>=1.15.0 in /usr/local/lib/python3.10/dist-packages (from ase>=3.18.0->pyxtal) (1.25.2)\n",
            "Requirement already satisfied: zipp>=0.5 in /usr/local/lib/python3.10/dist-packages (from importlib-metadata>=1.4->pyxtal) (3.18.1)\n",
            "Requirement already satisfied: python-dateutil>=2.8.2 in /usr/local/lib/python3.10/dist-packages (from pandas>=2.0.2->pyxtal) (2.8.2)\n",
            "Requirement already satisfied: pytz>=2020.1 in /usr/local/lib/python3.10/dist-packages (from pandas>=2.0.2->pyxtal) (2023.4)\n",
            "Requirement already satisfied: tzdata>=2022.1 in /usr/local/lib/python3.10/dist-packages (from pandas>=2.0.2->pyxtal) (2024.1)\n",
            "Collecting monty>=2024.2.2 (from pymatgen>=2024.3.1->pyxtal)\n",
            "  Downloading monty-2024.3.31-py3-none-any.whl (64 kB)\n",
            "\u001b[2K     \u001b[90m━━━━━━━━━━━━━━━━━━━━━━━━━━━━━━━━━━━━━━━━\u001b[0m \u001b[32m64.0/64.0 kB\u001b[0m \u001b[31m8.9 MB/s\u001b[0m eta \u001b[36m0:00:00\u001b[0m\n",
            "\u001b[?25hCollecting palettable>=3.1.1 (from pymatgen>=2024.3.1->pyxtal)\n",
            "  Downloading palettable-3.3.3-py2.py3-none-any.whl (332 kB)\n",
            "\u001b[2K     \u001b[90m━━━━━━━━━━━━━━━━━━━━━━━━━━━━━━━━━━━━━━━━\u001b[0m \u001b[32m332.3/332.3 kB\u001b[0m \u001b[31m37.9 MB/s\u001b[0m eta \u001b[36m0:00:00\u001b[0m\n",
            "\u001b[?25hRequirement already satisfied: plotly>=4.5.0 in /usr/local/lib/python3.10/dist-packages (from pymatgen>=2024.3.1->pyxtal) (5.15.0)\n",
            "Collecting pybtex (from pymatgen>=2024.3.1->pyxtal)\n",
            "  Downloading pybtex-0.24.0-py2.py3-none-any.whl (561 kB)\n",
            "\u001b[2K     \u001b[90m━━━━━━━━━━━━━━━━━━━━━━━━━━━━━━━━━━━━━━━━\u001b[0m \u001b[32m561.4/561.4 kB\u001b[0m \u001b[31m47.7 MB/s\u001b[0m eta \u001b[36m0:00:00\u001b[0m\n",
            "\u001b[?25hRequirement already satisfied: requests in /usr/local/lib/python3.10/dist-packages (from pymatgen>=2024.3.1->pyxtal) (2.31.0)\n",
            "Collecting ruamel.yaml>=0.17.0 (from pymatgen>=2024.3.1->pyxtal)\n",
            "  Downloading ruamel.yaml-0.18.6-py3-none-any.whl (117 kB)\n",
            "\u001b[2K     \u001b[90m━━━━━━━━━━━━━━━━━━━━━━━━━━━━━━━━━━━━━━━━\u001b[0m \u001b[32m117.8/117.8 kB\u001b[0m \u001b[31m5.0 MB/s\u001b[0m eta \u001b[36m0:00:00\u001b[0m\n",
            "\u001b[?25hRequirement already satisfied: sympy in /usr/local/lib/python3.10/dist-packages (from pymatgen>=2024.3.1->pyxtal) (1.12)\n",
            "Requirement already satisfied: tabulate in /usr/local/lib/python3.10/dist-packages (from pymatgen>=2024.3.1->pyxtal) (0.9.0)\n",
            "Requirement already satisfied: tqdm in /usr/local/lib/python3.10/dist-packages (from pymatgen>=2024.3.1->pyxtal) (4.66.2)\n",
            "Collecting uncertainties>=3.1.4 (from pymatgen>=2024.3.1->pyxtal)\n",
            "  Downloading uncertainties-3.1.7-py2.py3-none-any.whl (98 kB)\n",
            "\u001b[2K     \u001b[90m━━━━━━━━━━━━━━━━━━━━━━━━━━━━━━━━━━━━━━━━\u001b[0m \u001b[32m98.4/98.4 kB\u001b[0m \u001b[31m16.5 MB/s\u001b[0m eta \u001b[36m0:00:00\u001b[0m\n",
            "\u001b[?25hRequirement already satisfied: joblib in /usr/local/lib/python3.10/dist-packages (from pymatgen>=2024.3.1->pyxtal) (1.4.0)\n",
            "Requirement already satisfied: contourpy>=1.0.1 in /usr/local/lib/python3.10/dist-packages (from matplotlib>=3.1.0->ase>=3.18.0->pyxtal) (1.2.1)\n",
            "Requirement already satisfied: cycler>=0.10 in /usr/local/lib/python3.10/dist-packages (from matplotlib>=3.1.0->ase>=3.18.0->pyxtal) (0.12.1)\n",
            "Requirement already satisfied: fonttools>=4.22.0 in /usr/local/lib/python3.10/dist-packages (from matplotlib>=3.1.0->ase>=3.18.0->pyxtal) (4.51.0)\n",
            "Requirement already satisfied: kiwisolver>=1.0.1 in /usr/local/lib/python3.10/dist-packages (from matplotlib>=3.1.0->ase>=3.18.0->pyxtal) (1.4.5)\n",
            "Requirement already satisfied: packaging>=20.0 in /usr/local/lib/python3.10/dist-packages (from matplotlib>=3.1.0->ase>=3.18.0->pyxtal) (24.0)\n",
            "Requirement already satisfied: pillow>=6.2.0 in /usr/local/lib/python3.10/dist-packages (from matplotlib>=3.1.0->ase>=3.18.0->pyxtal) (9.4.0)\n",
            "Requirement already satisfied: pyparsing>=2.3.1 in /usr/local/lib/python3.10/dist-packages (from matplotlib>=3.1.0->ase>=3.18.0->pyxtal) (3.1.2)\n",
            "Requirement already satisfied: tenacity>=6.2.0 in /usr/local/lib/python3.10/dist-packages (from plotly>=4.5.0->pymatgen>=2024.3.1->pyxtal) (8.2.3)\n",
            "Requirement already satisfied: six>=1.5 in /usr/local/lib/python3.10/dist-packages (from python-dateutil>=2.8.2->pandas>=2.0.2->pyxtal) (1.16.0)\n",
            "Collecting ruamel.yaml.clib>=0.2.7 (from ruamel.yaml>=0.17.0->pymatgen>=2024.3.1->pyxtal)\n",
            "  Downloading ruamel.yaml.clib-0.2.8-cp310-cp310-manylinux_2_17_x86_64.manylinux2014_x86_64.manylinux_2_24_x86_64.whl (526 kB)\n",
            "\u001b[2K     \u001b[90m━━━━━━━━━━━━━━━━━━━━━━━━━━━━━━━━━━━━━━━━\u001b[0m \u001b[32m526.7/526.7 kB\u001b[0m \u001b[31m51.5 MB/s\u001b[0m eta \u001b[36m0:00:00\u001b[0m\n",
            "\u001b[?25hRequirement already satisfied: future in /usr/local/lib/python3.10/dist-packages (from uncertainties>=3.1.4->pymatgen>=2024.3.1->pyxtal) (0.18.3)\n",
            "Requirement already satisfied: PyYAML>=3.01 in /usr/local/lib/python3.10/dist-packages (from pybtex->pymatgen>=2024.3.1->pyxtal) (6.0.1)\n",
            "Collecting latexcodec>=1.0.4 (from pybtex->pymatgen>=2024.3.1->pyxtal)\n",
            "  Downloading latexcodec-3.0.0-py3-none-any.whl (18 kB)\n",
            "Requirement already satisfied: charset-normalizer<4,>=2 in /usr/local/lib/python3.10/dist-packages (from requests->pymatgen>=2024.3.1->pyxtal) (3.3.2)\n",
            "Requirement already satisfied: idna<4,>=2.5 in /usr/local/lib/python3.10/dist-packages (from requests->pymatgen>=2024.3.1->pyxtal) (3.6)\n",
            "Requirement already satisfied: urllib3<3,>=1.21.1 in /usr/local/lib/python3.10/dist-packages (from requests->pymatgen>=2024.3.1->pyxtal) (2.0.7)\n",
            "Requirement already satisfied: certifi>=2017.4.17 in /usr/local/lib/python3.10/dist-packages (from requests->pymatgen>=2024.3.1->pyxtal) (2024.2.2)\n",
            "Requirement already satisfied: mpmath>=0.19 in /usr/local/lib/python3.10/dist-packages (from sympy->pymatgen>=2024.3.1->pyxtal) (1.3.0)\n",
            "Installing collected packages: uncertainties, spglib, ruamel.yaml.clib, palettable, monty, latexcodec, ruamel.yaml, pybtex, pymatgen, ase, pyxtal\n",
            "Successfully installed ase-3.22.1 latexcodec-3.0.0 monty-2024.3.31 palettable-3.3.3 pybtex-0.24.0 pymatgen-2024.4.13 pyxtal-0.6.4 ruamel.yaml-0.18.6 ruamel.yaml.clib-0.2.8 spglib-2.4.0 uncertainties-3.1.7\n",
            "Collecting pyscf\n",
            "  Downloading pyscf-2.5.0-py3-none-manylinux_2_17_x86_64.manylinux2014_x86_64.whl (47.3 MB)\n",
            "\u001b[2K     \u001b[90m━━━━━━━━━━━━━━━━━━━━━━━━━━━━━━━━━━━━━━━━\u001b[0m \u001b[32m47.3/47.3 MB\u001b[0m \u001b[31m11.5 MB/s\u001b[0m eta \u001b[36m0:00:00\u001b[0m\n",
            "\u001b[?25hRequirement already satisfied: numpy!=1.16,!=1.17,>=1.13 in /usr/local/lib/python3.10/dist-packages (from pyscf) (1.25.2)\n",
            "Requirement already satisfied: scipy!=1.5.0,!=1.5.1 in /usr/local/lib/python3.10/dist-packages (from pyscf) (1.11.4)\n",
            "Requirement already satisfied: h5py>=2.7 in /usr/local/lib/python3.10/dist-packages (from pyscf) (3.9.0)\n",
            "Requirement already satisfied: setuptools in /usr/local/lib/python3.10/dist-packages (from pyscf) (67.7.2)\n",
            "Installing collected packages: pyscf\n",
            "Successfully installed pyscf-2.5.0\n"
          ]
        }
      ],
      "source": [
        "!pip install rdkit-pypi\n",
        "!pip install pandas\n",
        "!pip install PubChemPy\n",
        "!pip install py3dmol\n",
        "!pip install pyxtal\n",
        "!pip install pyscf"
      ]
    },
    {
      "cell_type": "code",
      "source": [
        "#1-CONVERTING MOLECULAR FORMULA INTO SMILES\n",
        "\n",
        "from rdkit import Chem\n",
        "from rdkit.Chem import AllChem\n",
        "import pubchempy as pcp\n",
        "\n",
        "def generate_isomers(molecular_formula):\n",
        "    try:\n",
        "        compound = pcp.get_compounds(molecular_formula, 'formula')[0]\n",
        "        canonical_smiles = compound.canonical_smiles\n",
        "\n",
        "        # Generate a molecular structure from the canonical SMILES\n",
        "        mol = Chem.MolFromSmiles(canonical_smiles)\n",
        "        if mol is None:\n",
        "            raise ValueError(\"Invalid canonical SMILES\")\n",
        "\n",
        "        # Generate isomeric SMILES representations\n",
        "        isomeric_mols = AllChem.EnumerateStereoisomers(mol)\n",
        "        isomeric_smiles_list = [Chem.MolToSmiles(isomeric, isomericSmiles=True) for isomeric in isomeric_mols]\n",
        "\n",
        "        return isomeric_smiles_list\n",
        "    except IndexError:\n",
        "        raise ValueError(\"Invalid molecular formula\")\n",
        "\n",
        "try:\n",
        "    user_input_formula = input(\"Enter a molecular formula: \")\n",
        "    isomeric_smiles_list = generate_isomers(user_input_formula)\n",
        "    print(\"Generated isomeric SMILES representations:\")\n",
        "    for isomeric_smiles in isomeric_smiles_list:\n",
        "        print(isomeric_smiles)\n",
        "except ValueError as ve:\n",
        "    print(ve)\n"
      ],
      "metadata": {
        "id": "m2vbswCW6RDE",
        "colab": {
          "base_uri": "https://localhost:8080/"
        },
        "outputId": "40b2b797-3e78-4d91-891f-b66599c21405"
      },
      "execution_count": null,
      "outputs": [
        {
          "output_type": "stream",
          "name": "stdout",
          "text": [
            "Enter a molecular formula: C7H5N3O6\n",
            "Generated isomeric SMILES representations:\n",
            "Cc1c([N+](=O)[O-])cc([N+](=O)[O-])cc1[N+](=O)[O-]\n"
          ]
        }
      ]
    },
    {
      "cell_type": "code",
      "source": [
        "#2-ALKANE , ALKENE , ALKYNE , BOND INFORMATION , AROMATIC OR NOT , PRESENCE AND COUNT OF -NO2 , -H AND -NH2 GROUPS , 2D STRUCUTRE\n",
        "\n",
        "import pubchempy as pcp\n",
        "from rdkit import Chem\n",
        "from rdkit.Chem import Draw\n",
        "from rdkit.Chem import AllChem\n",
        "\n",
        "def get_molecule_name(smiles):\n",
        "    molecule = Chem.MolFromSmiles(smiles)\n",
        "    if molecule:\n",
        "        compound = pcp.get_compounds(smiles, 'smiles')[0]\n",
        "        common_name = compound.synonyms[0] if compound.synonyms else \"Unknown\"\n",
        "        return common_name\n",
        "    else:\n",
        "        return \"Invalid SMILES\"\n",
        "\n",
        "\n",
        "def get_functional_groups(molecule):\n",
        "    functional_groups = []\n",
        "\n",
        "    # Check for alkane\n",
        "    if molecule.HasSubstructMatch(Chem.MolFromSmarts('[C,c]-[C,c]')):\n",
        "        functional_groups.append(\"Alkane\")\n",
        "\n",
        "    # Check for alkene\n",
        "    if molecule.HasSubstructMatch(Chem.MolFromSmarts('[C,c]=C')):\n",
        "        functional_groups.append(\"Alkene\")\n",
        "\n",
        "    # Check for alkyne\n",
        "    if molecule.HasSubstructMatch(Chem.MolFromSmarts('[C,c]#C')):\n",
        "        functional_groups.append(\"Alkyne\")\n",
        "\n",
        "    if molecule.HasSubstructMatch(Chem.MolFromSmarts('a')):  # 'a' represents an aromatic atom\n",
        "      functional_groups.append(\"Aromatic\")\n",
        "\n",
        "    return functional_groups\n",
        "\n",
        "\n",
        "def process_smiles(smiles):\n",
        "    molecule_name = get_molecule_name(smiles)\n",
        "    print(f\"Molecule Name: {molecule_name}\")\n",
        "\n",
        "    molecule = Chem.MolFromSmiles(smiles)\n",
        "    if molecule:\n",
        "        bonds = molecule.GetBonds()\n",
        "        if bonds:\n",
        "            print(\"Bond Information:\")\n",
        "            for bond in bonds:\n",
        "                print(f\"Bond between {bond.GetBeginAtomIdx()} & {bond.GetEndAtomIdx()}: {bond.GetBondType()}\")\n",
        "        else:\n",
        "            print(\"No bonds\")\n",
        "\n",
        "        functional_groups = get_functional_groups(molecule)\n",
        "        if functional_groups:\n",
        "            print(\"Functional Groups:\")\n",
        "            for group in functional_groups:\n",
        "                print(f\"- {group}\")\n",
        "\n",
        "        atoms = molecule.GetAtoms()\n",
        "        print(\"Atom Information:\")\n",
        "        for atom in atoms:\n",
        "            print(f\"Atom {atom.GetIdx()}: {atom.GetSymbol()}\")\n",
        "\n",
        "        img_2d = Draw.MolToImage(molecule, size=(300, 300))\n",
        "        display(img_2d)\n",
        "\n",
        "\n",
        "    else:\n",
        "        print(\"Failed to create a molecule\")\n",
        "\n",
        "\n",
        "\n",
        "# Prompt the user to input a SMILES string\n",
        "user_input_smiles = input(\"Enter a SMILES string: \")\n",
        "\n",
        "# Call the function with the user input\n",
        "process_smiles(user_input_smiles)\n",
        "\n",
        "\n",
        "def count_specific_substituents(smiles):\n",
        "    substituents = [\"[N+](=O)[O-]\", \"[NH2]\", \"[H]\"]\n",
        "    mol = Chem.MolFromSmiles(smiles)\n",
        "    if mol is None:\n",
        "        raise ValueError(\"Invalid SMILES string\")\n",
        "\n",
        "    counts = {substituent: 0 for substituent in substituents}\n",
        "    for substituent in substituents:\n",
        "        matches = mol.GetSubstructMatches(Chem.MolFromSmarts(substituent))\n",
        "        counts[substituent] = len(matches)\n",
        "\n",
        "    return counts\n",
        "\n",
        "\n",
        "# Call the function with the user input\n",
        "substituent_counts = count_specific_substituents(user_input_smiles)\n",
        "print(\"Number of NO2 groups:\", substituent_counts[\"[N+](=O)[O-]\"])\n",
        "print(\"Number of NH2 groups:\", substituent_counts[\"[NH2]\"])\n",
        "print(\"Number of H groups:\", substituent_counts[\"[H]\"])\n",
        "\n"
      ],
      "metadata": {
        "colab": {
          "base_uri": "https://localhost:8080/",
          "height": 942
        },
        "id": "N338Wcn-hAQU",
        "outputId": "e4f8cb5f-70e3-4ff1-b235-a00640fa8b21"
      },
      "execution_count": null,
      "outputs": [
        {
          "output_type": "stream",
          "name": "stdout",
          "text": [
            "Enter a SMILES string: CC(=O)NC1=NN=C(S1)S(=O)(=O)N\n",
            "Molecule Name: acetazolamide\n",
            "Bond Information:\n",
            "Bond between 0 & 1: SINGLE\n",
            "Bond between 1 & 2: DOUBLE\n",
            "Bond between 1 & 3: SINGLE\n",
            "Bond between 3 & 4: SINGLE\n",
            "Bond between 4 & 5: AROMATIC\n",
            "Bond between 5 & 6: AROMATIC\n",
            "Bond between 6 & 7: AROMATIC\n",
            "Bond between 7 & 8: AROMATIC\n",
            "Bond between 7 & 9: SINGLE\n",
            "Bond between 9 & 10: DOUBLE\n",
            "Bond between 9 & 11: DOUBLE\n",
            "Bond between 9 & 12: SINGLE\n",
            "Bond between 8 & 4: AROMATIC\n",
            "Functional Groups:\n",
            "- Alkane\n",
            "- Aromatic\n",
            "Atom Information:\n",
            "Atom 0: C\n",
            "Atom 1: C\n",
            "Atom 2: O\n",
            "Atom 3: N\n",
            "Atom 4: C\n",
            "Atom 5: N\n",
            "Atom 6: N\n",
            "Atom 7: C\n",
            "Atom 8: S\n",
            "Atom 9: S\n",
            "Atom 10: O\n",
            "Atom 11: O\n",
            "Atom 12: N\n"
          ]
        },
        {
          "output_type": "display_data",
          "data": {
            "text/plain": [
              "<PIL.PngImagePlugin.PngImageFile image mode=RGB size=300x300>"
            ],
            "image/png": "[encoded data removed]"
          },
          "metadata": {}
        },
        {
          "output_type": "stream",
          "name": "stdout",
          "text": [
            "Number of NO2 groups: 0\n",
            "Number of NH2 groups: 1\n",
            "Number of H groups: 0\n"
          ]
        }
      ]
    },
    {
      "cell_type": "code",
      "source": [
        "#3-GENERATE 2D STRUCTURE AND IT'S 3-D COORDINATES IN A SDF FILE\n",
        "\n",
        "from rdkit import Chem\n",
        "from rdkit.Chem import AllChem\n",
        "from rdkit.Chem import Draw\n",
        "\n",
        "mol = Chem.MolFromSmiles(user_input_smiles )\n",
        "mol = Chem.AddHs(mol)\n",
        "AllChem.EmbedMolecule(mol, AllChem.ETKDG())\n",
        "AllChem.MMFFOptimizeMolecule(mol)\n",
        "\n",
        "# Simple 2D depiction\n",
        "img = Draw.MolToImage(mol)\n",
        "img.show()\n",
        "\n",
        "filename = \"molecule.sdf\"\n",
        "writer = Chem.SDWriter(filename)\n",
        "writer.write(mol)\n",
        "writer.close()\n",
        "\n",
        "user_input_smiles = input(\"Enter a SMILES string: \")\n",
        "process_smiles(user_input_smiles)"
      ],
      "metadata": {
        "id": "wxCEzc-UaWzO",
        "colab": {
          "base_uri": "https://localhost:8080/",
          "height": 890
        },
        "outputId": "d69e5402-3c28-494a-a343-47850ffc88f5"
      },
      "execution_count": null,
      "outputs": [
        {
          "output_type": "stream",
          "name": "stdout",
          "text": [
            "Enter a SMILES string: CC(=O)NC1=NN=C(S1)S(=O)(=O)N\n",
            "Molecule Name: acetazolamide\n",
            "Bond Information:\n",
            "Bond between 0 & 1: SINGLE\n",
            "Bond between 1 & 2: DOUBLE\n",
            "Bond between 1 & 3: SINGLE\n",
            "Bond between 3 & 4: SINGLE\n",
            "Bond between 4 & 5: AROMATIC\n",
            "Bond between 5 & 6: AROMATIC\n",
            "Bond between 6 & 7: AROMATIC\n",
            "Bond between 7 & 8: AROMATIC\n",
            "Bond between 7 & 9: SINGLE\n",
            "Bond between 9 & 10: DOUBLE\n",
            "Bond between 9 & 11: DOUBLE\n",
            "Bond between 9 & 12: SINGLE\n",
            "Bond between 8 & 4: AROMATIC\n",
            "Functional Groups:\n",
            "- Alkane\n",
            "- Aromatic\n",
            "Atom Information:\n",
            "Atom 0: C\n",
            "Atom 1: C\n",
            "Atom 2: O\n",
            "Atom 3: N\n",
            "Atom 4: C\n",
            "Atom 5: N\n",
            "Atom 6: N\n",
            "Atom 7: C\n",
            "Atom 8: S\n",
            "Atom 9: S\n",
            "Atom 10: O\n",
            "Atom 11: O\n",
            "Atom 12: N\n"
          ]
        },
        {
          "output_type": "display_data",
          "data": {
            "text/plain": [
              "<PIL.PngImagePlugin.PngImageFile image mode=RGB size=300x300>"
            ],
            "image/png": "[encoded data removed]"
          },
          "metadata": {}
        }
      ]
    },
    {
      "cell_type": "code",
      "source": [
        "#4-GENERATE 3-D STRUCTURE OF 2-D COMPOUND USING CORODINATES FROM THE SDF FILE GENERATED ABOVE\n",
        "\n",
        "from rdkit import Chem\n",
        "from rdkit.Chem import AllChem\n",
        "from rdkit.Chem import PyMol\n",
        "import py3Dmol\n",
        "\n",
        "# Read molecule from SDF\n",
        "sdf_path = 'molecule.sdf'\n",
        "suppl = Chem.SDMolSupplier(sdf_path)\n",
        "mol = next(suppl)\n",
        "\n",
        "# Use Py3Dmol for visualization\n",
        "mb = Chem.MolToMolBlock(mol)\n",
        "view = py3Dmol.view(width=400, height=400)\n",
        "view.addModel(mb, 'mol')\n",
        "view.setStyle({'stick': {}})\n",
        "view.zoomTo()\n",
        "view.show()\n",
        "\n"
      ],
      "metadata": {
        "id": "sSIMEd0obCNq",
        "colab": {
          "base_uri": "https://localhost:8080/",
          "height": 417
        },
        "outputId": "45968249-b422-421b-b0d0-74e6566cda2e"
      },
      "execution_count": null,
      "outputs": [
        {
          "output_type": "display_data",
          "data": {
            "application/3dmoljs_load.v0": "<div id=\"3dmolviewer_17103143598355548\"  style=\"position: relative; width: 400px; height: 400px;\">\n        <p id=\"3dmolwarning_17103143598355548\" style=\"background-color:#ffcccc;color:black\">3Dmol.js failed to load for some reason.  Please check your browser console for error messages.<br></p>\n        </div>\n<script>\n\nvar loadScriptAsync = function(uri){\n  return new Promise((resolve, reject) => {\n    //this is to ignore the existence of requirejs amd\n    var savedexports, savedmodule;\n    if (typeof exports !== 'undefined') savedexports = exports;\n    else exports = {}\n    if (typeof module !== 'undefined') savedmodule = module;\n    else module = {}\n\n    var tag = document.createElement('script');\n    tag.src = uri;\n    tag.async = true;\n    tag.onload = () => {\n        exports = savedexports;\n        module = savedmodule;\n        resolve();\n    };\n  var firstScriptTag = document.getElementsByTagName('script')[0];\n  firstScriptTag.parentNode.insertBefore(tag, firstScriptTag);\n});\n};\n\nif(typeof $3Dmolpromise === 'undefined') {\n$3Dmolpromise = null;\n  $3Dmolpromise = loadScriptAsync('https://cdnjs.cloudflare.com/ajax/libs/3Dmol/2.1.0/3Dmol-min.js');\n}\n\nvar viewer_17103143598355548 = null;\nvar warn = document.getElementById(\"3dmolwarning_17103143598355548\");\nif(warn) {\n    warn.parentNode.removeChild(warn);\n}\n$3Dmolpromise.then(function() {\nviewer_17103143598355548 = $3Dmol.createViewer(document.getElementById(\"3dmolviewer_17103143598355548\"),{backgroundColor:\"white\"});\nviewer_17103143598355548.zoomTo();\n\tviewer_17103143598355548.addModel(\"\\n     RDKit          3D\\n\\n 13 13  0  0  0  0  0  0  0  0999 V2000\\n    4.0894   -0.5302    0.2402 C   0  0  0  0  0  0  0  0  0  0  0  0\\n    2.6055   -0.4702    0.5086 C   0  0  0  0  0  0  0  0  0  0  0  0\\n    2.1381   -0.9770    1.5218 O   0  0  0  0  0  0  0  0  0  0  0  0\\n    1.9211    0.2104   -0.4705 N   0  0  0  0  0  0  0  0  0  0  0  0\\n    0.5704    0.4510   -0.5151 C   0  0  0  0  0  0  0  0  0  0  0  0\\n    0.0154    1.1083   -1.5111 N   0  0  0  0  0  0  0  0  0  0  0  0\\n   -1.3525    1.2357   -1.3530 N   0  0  0  0  0  0  0  0  0  0  0  0\\n   -1.7561    0.6663   -0.2358 C   0  0  0  0  0  0  0  0  0  0  0  0\\n   -0.5214   -0.0625    0.6882 S   0  0  0  0  0  0  0  0  0  0  0  0\\n   -3.4060    0.5866    0.3663 S   0  0  0  0  0  6  0  0  0  0  0  0\\n   -3.4334    1.3065    1.6201 O   0  0  0  0  0  0  0  0  0  0  0  0\\n   -4.2870    0.9203   -0.7300 O   0  0  0  0  0  0  0  0  0  0  0  0\\n   -3.7891   -1.0131    0.7583 N   0  0  0  0  0  0  0  0  0  0  0  0\\n  1  2  1  0\\n  2  3  2  0\\n  2  4  1  0\\n  4  5  1  0\\n  5  6  2  0\\n  6  7  1  0\\n  7  8  2  0\\n  8  9  1  0\\n  8 10  1  0\\n 10 11  2  0\\n 10 12  2  0\\n 10 13  1  0\\n  9  5  1  0\\nM  END\\n\",\"mol\");\n\tviewer_17103143598355548.setStyle({\"stick\": {}});\n\tviewer_17103143598355548.zoomTo();\nviewer_17103143598355548.render();\n});\n</script>",
            "text/html": [
              "<div id=\"3dmolviewer_17103143598355548\"  style=\"position: relative; width: 400px; height: 400px;\">\n",
              "        <p id=\"3dmolwarning_17103143598355548\" style=\"background-color:#ffcccc;color:black\">3Dmol.js failed to load for some reason.  Please check your browser console for error messages.<br></p>\n",
              "        </div>\n",
              "<script>\n",
              "\n",
              "var loadScriptAsync = function(uri){\n",
              "  return new Promise((resolve, reject) => {\n",
              "    //this is to ignore the existence of requirejs amd\n",
              "    var savedexports, savedmodule;\n",
              "    if (typeof exports !== 'undefined') savedexports = exports;\n",
              "    else exports = {}\n",
              "    if (typeof module !== 'undefined') savedmodule = module;\n",
              "    else module = {}\n",
              "\n",
              "    var tag = document.createElement('script');\n",
              "    tag.src = uri;\n",
              "    tag.async = true;\n",
              "    tag.onload = () => {\n",
              "        exports = savedexports;\n",
              "        module = savedmodule;\n",
              "        resolve();\n",
              "    };\n",
              "  var firstScriptTag = document.getElementsByTagName('script')[0];\n",
              "  firstScriptTag.parentNode.insertBefore(tag, firstScriptTag);\n",
              "});\n",
              "};\n",
              "\n",
              "if(typeof $3Dmolpromise === 'undefined') {\n",
              "$3Dmolpromise = null;\n",
              "  $3Dmolpromise = loadScriptAsync('https://cdnjs.cloudflare.com/ajax/libs/3Dmol/2.1.0/3Dmol-min.js');\n",
              "}\n",
              "\n",
              "var viewer_17103143598355548 = null;\n",
              "var warn = document.getElementById(\"3dmolwarning_17103143598355548\");\n",
              "if(warn) {\n",
              "    warn.parentNode.removeChild(warn);\n",
              "}\n",
              "$3Dmolpromise.then(function() {\n",
              "viewer_17103143598355548 = $3Dmol.createViewer(document.getElementById(\"3dmolviewer_17103143598355548\"),{backgroundColor:\"white\"});\n",
              "viewer_17103143598355548.zoomTo();\n",
              "\tviewer_17103143598355548.addModel(\"\\n     RDKit          3D\\n\\n 13 13  0  0  0  0  0  0  0  0999 V2000\\n    4.0894   -0.5302    0.2402 C   0  0  0  0  0  0  0  0  0  0  0  0\\n    2.6055   -0.4702    0.5086 C   0  0  0  0  0  0  0  0  0  0  0  0\\n    2.1381   -0.9770    1.5218 O   0  0  0  0  0  0  0  0  0  0  0  0\\n    1.9211    0.2104   -0.4705 N   0  0  0  0  0  0  0  0  0  0  0  0\\n    0.5704    0.4510   -0.5151 C   0  0  0  0  0  0  0  0  0  0  0  0\\n    0.0154    1.1083   -1.5111 N   0  0  0  0  0  0  0  0  0  0  0  0\\n   -1.3525    1.2357   -1.3530 N   0  0  0  0  0  0  0  0  0  0  0  0\\n   -1.7561    0.6663   -0.2358 C   0  0  0  0  0  0  0  0  0  0  0  0\\n   -0.5214   -0.0625    0.6882 S   0  0  0  0  0  0  0  0  0  0  0  0\\n   -3.4060    0.5866    0.3663 S   0  0  0  0  0  6  0  0  0  0  0  0\\n   -3.4334    1.3065    1.6201 O   0  0  0  0  0  0  0  0  0  0  0  0\\n   -4.2870    0.9203   -0.7300 O   0  0  0  0  0  0  0  0  0  0  0  0\\n   -3.7891   -1.0131    0.7583 N   0  0  0  0  0  0  0  0  0  0  0  0\\n  1  2  1  0\\n  2  3  2  0\\n  2  4  1  0\\n  4  5  1  0\\n  5  6  2  0\\n  6  7  1  0\\n  7  8  2  0\\n  8  9  1  0\\n  8 10  1  0\\n 10 11  2  0\\n 10 12  2  0\\n 10 13  1  0\\n  9  5  1  0\\nM  END\\n\",\"mol\");\n",
              "\tviewer_17103143598355548.setStyle({\"stick\": {}});\n",
              "\tviewer_17103143598355548.zoomTo();\n",
              "viewer_17103143598355548.render();\n",
              "});\n",
              "</script>"
            ]
          },
          "metadata": {}
        }
      ]
    },
    {
      "cell_type": "code",
      "source": [
        "#4-PLANER AND NON PLANER\n",
        "\n",
        "from rdkit import Chem\n",
        "from rdkit.Chem import AllChem\n",
        "\n",
        "def is_planar(mol):\n",
        "    rings = mol.GetRingInfo().AtomRings()\n",
        "    for ring in rings:\n",
        "        if len(ring) >= 5:  # Consider only rings with 5 or more atoms\n",
        "\n",
        "            # Calculate the torsion angles between consecutive atoms in the ring\n",
        "            torsion_angles = []\n",
        "            for i in range(len(ring) - 3):\n",
        "                atom_indices = ring[i:i+4]\n",
        "                torsion_angle = Chem.rdMolTransforms.GetDihedralDeg(mol.GetConformer(), *atom_indices)\n",
        "                torsion_angles.append(torsion_angle)\n",
        "\n",
        "            # Clearly if all of the four atoms were to lie in a plane, then the torsion angle χ is 0° or 180°,\n",
        "            # depending on whether the first and fourth atoms are in a cis or trans relationship with respect to the middle bond, respectively.\n",
        "\n",
        "\n",
        "            if all(abs(angle) < 30 or abs(angle - 180) < 30 for angle in torsion_angles):\n",
        "                return True\n",
        "    return False\n",
        "\n",
        "user_input_smiles = input(\"Enter a SMILES string: \")\n",
        "mol = Chem.MolFromSmiles(user_input_smiles)\n",
        "mol = Chem.AddHs(mol)\n",
        "AllChem.EmbedMolecule(mol)\n",
        "AllChem.MMFFOptimizeMolecule(mol)\n",
        "\n",
        "# Check if the molecule is planar\n",
        "if is_planar(mol):\n",
        "    print(\"The molecule is planar.\")\n",
        "else:\n",
        "    print(\"The molecule is non-planar.\")"
      ],
      "metadata": {
        "id": "z-NQeFqbVuqD",
        "colab": {
          "base_uri": "https://localhost:8080/"
        },
        "outputId": "394b7d23-c4f0-47bc-8ae3-8138936ff5cd"
      },
      "execution_count": null,
      "outputs": [
        {
          "output_type": "stream",
          "name": "stdout",
          "text": [
            "Enter a SMILES string: CC(=O)NC1=NN=C(S1)S(=O)(=O)N\n",
            "The molecule is planar.\n"
          ]
        }
      ]
    },
    {
      "cell_type": "code",
      "source": [
        "#4-PLANAR AND NON-PLANAR\n",
        "\n",
        "from rdkit import Chem\n",
        "from rdkit.Chem import AllChem, rdMolTransforms\n",
        "\n",
        "def check_planarity(smiles):\n",
        "    molecule = Chem.MolFromSmiles(smiles)\n",
        "\n",
        "    if molecule is None:\n",
        "        print(\"Invalid Smiles input.\")\n",
        "        return\n",
        "\n",
        "    molecule = Chem.AddHs(molecule)\n",
        "    AllChem.EmbedMolecule(molecule, randomSeed=42)\n",
        "\n",
        "    has_non_planar_rings = False\n",
        "    for ring in molecule.GetRingInfo().AtomRings():\n",
        "        if len(ring) > 3:\n",
        "            dihedral_angles = []\n",
        "            for i in range(len(ring) - 3):\n",
        "                dihedral = rdMolTransforms.GetDihedralDeg(\n",
        "                    molecule.GetConformer(), ring[i], ring[i + 1], ring[i + 2], ring[i + 3]\n",
        "                )\n",
        "                dihedral_angles.append(dihedral)\n",
        "            planarity_threshold = 10.0\n",
        "            has_non_planar_rings |= any(\n",
        "                abs(angle) > planarity_threshold for angle in dihedral_angles\n",
        "            )\n",
        "\n",
        "    if has_non_planar_rings:\n",
        "        print(\"The molecule is not planar (has non-planar rings).\")\n",
        "        return 'Non-Planar'\n",
        "    else:\n",
        "        print(\"The molecule is planar (no non-planar rings).\")\n",
        "        return 'Planar'\n",
        "\n",
        "smiles = input(\"Enter a SMILES string: \")\n",
        "check_planarity(smiles)\n"
      ],
      "metadata": {
        "colab": {
          "base_uri": "https://localhost:8080/",
          "height": 69
        },
        "id": "fGq5vRuBYB6x",
        "outputId": "3e799f8b-7506-4e8a-a7ae-e67a9fdc4352"
      },
      "execution_count": null,
      "outputs": [
        {
          "output_type": "stream",
          "name": "stdout",
          "text": [
            "Enter a SMILES string: CC(=O)NC1=NN=C(S1)S(=O)(=O)N\n",
            "The molecule is planar (no non-planar rings).\n"
          ]
        },
        {
          "output_type": "execute_result",
          "data": {
            "text/plain": [
              "'Planar'"
            ],
            "application/vnd.google.colaboratory.intrinsic+json": {
              "type": "string"
            }
          },
          "metadata": {},
          "execution_count": 29
        }
      ]
    },
    {
      "cell_type": "code",
      "source": [
        "#5-SYMMETRIC AND NON SYMMETRIC\n",
        "\n",
        "from rdkit import Chem\n",
        "from rdkit.Chem import AllChem\n",
        "\n",
        "def is_symmetrical_bond_rotation(smiles):\n",
        "    mol = Chem.MolFromSmiles(smiles)\n",
        "    if mol is None:\n",
        "        raise ValueError(\"Invalid SMILES string\")\n",
        "\n",
        "    # Generate 2D coordinates\n",
        "    AllChem.Compute2DCoords(mol)\n",
        "\n",
        "    # Get the first bond in the molecule\n",
        "    bond = mol.GetBondBetweenAtoms(0, 1)\n",
        "\n",
        "    # Rotate the bond by 180 degrees\n",
        "    bond.SetStereo(Chem.BondStereo.STEREOE)\n",
        "\n",
        "    # Convert the molecule back to SMILES and check if it's the same as the original SMILES\n",
        "    rotated_smiles = Chem.MolToSmiles(mol)\n",
        "\n",
        "    if rotated_smiles == smiles:\n",
        "        print(f\"The molecule represented by the SMILES '{smiles}' is symmetrical.\")\n",
        "    else:\n",
        "        print(f\"The molecule represented by the SMILES '{smiles}' is not symmetrical.\")\n",
        "\n",
        "smiles = input(\"Enter a SMILES string: \")\n",
        "is_symmetrical_bond_rotation(smiles)\n"
      ],
      "metadata": {
        "id": "JrQrmBSpKRD6",
        "colab": {
          "base_uri": "https://localhost:8080/"
        },
        "outputId": "743fbe01-7b46-4509-c4ed-a29b10fc0aed"
      },
      "execution_count": null,
      "outputs": [
        {
          "output_type": "stream",
          "name": "stdout",
          "text": [
            "Enter a SMILES string: CC(=O)OCC(=O)OCC(=O)O\n",
            "The molecule represented by the SMILES 'CC(=O)OCC(=O)OCC(=O)O' is symmetrical.\n"
          ]
        }
      ]
    },
    {
      "cell_type": "code",
      "source": [
        "#6-SYMMETRIC AND NON-SYMMETRIC WITH STRUCTURE\n",
        "\n",
        "from rdkit import Chem\n",
        "from rdkit.Chem import AllChem\n",
        "from rdkit.Chem.Draw import IPythonConsole\n",
        "from rdkit.Chem import Draw\n",
        "\n",
        "def is_symmetrical_bond_rotation(smiles):\n",
        "    mol = Chem.MolFromSmiles(smiles)\n",
        "    if mol is None:\n",
        "        raise ValueError(\"Invalid SMILES string\")\n",
        "\n",
        "    # Generate 2D coordinates\n",
        "    AllChem.Compute2DCoords(mol)\n",
        "\n",
        "    # Get the first bond in the molecule\n",
        "    bond = mol.GetBondBetweenAtoms(0, 1)\n",
        "\n",
        "    # Rotate the bond by 180 degrees\n",
        "\n",
        "    bond.SetStereo(Chem.BondStereo.STEREOE)\n",
        "\n",
        "    # Convert the molecule back to SMILES and check if it's the same as the original SMILES\n",
        "\n",
        "    rotated_smiles = Chem.MolToSmiles(mol)\n",
        "\n",
        "    if rotated_smiles == smiles:\n",
        "       print(\"The molecule is symmetrical.\")\n",
        "    else:\n",
        "         print(\"The molecule is not symmetrical.\")\n",
        "\n",
        "\n",
        "\n",
        "smiles=input(\"Enter a smile: \")\n",
        "is_symmetrical_bond_rotation(smiles)\n",
        "\n",
        "\n",
        "# Draw the 2D image before bond rotation\n",
        "\n",
        "img_before = Draw.MolToImage(mol)\n",
        "display(img_before)\n",
        "\n",
        "# Rotate the bond and draw the 2D image after bond rotation\n",
        "\n",
        "mol.GetBondBetweenAtoms(0, 1).SetStereo(Chem.BondStereo.STEREOE)\n",
        "img_after = Draw.MolToImage(mol)\n",
        "display(img_after)\n"
      ],
      "metadata": {
        "colab": {
          "base_uri": "https://localhost:8080/",
          "height": 652
        },
        "id": "vTuPZOGgR8ne",
        "outputId": "5c5ac8a4-e853-404f-a429-ab0ac4ac8e40"
      },
      "execution_count": null,
      "outputs": [
        {
          "output_type": "stream",
          "name": "stdout",
          "text": [
            "Enter a smile:  Nc1c([N+](=O)[O-])cc([N+](=O)[O-])cc1[N+](=O)[O-]\n",
            "The molecule is not symmetrical.\n"
          ]
        },
        {
          "output_type": "display_data",
          "data": {
            "text/plain": [
              "<PIL.PngImagePlugin.PngImageFile image mode=RGB size=300x300>"
            ],
            "image/png": "[encoded data removed]"
          },
          "metadata": {}
        },
        {
          "output_type": "display_data",
          "data": {
            "text/plain": [
              "<PIL.PngImagePlugin.PngImageFile image mode=RGB size=300x300>"
            ],
            "image/png": "[encoded data removed]"
          },
          "metadata": {}
        }
      ]
    },
    {
      "cell_type": "code",
      "source": [
        "import py3Dmol\n",
        "from rdkit import Chem\n",
        "from rdkit.Chem import AllChem\n",
        "\n",
        "# Load the molecule from a SMILES string\n",
        "smiles = \"O=[N+]([O-])c1cc([N+](=O)[O-])cc([N+](=O)[O-])c1\"  # Example SMILES string\n",
        "mol = Chem.MolFromSmiles(smiles)\n",
        "\n",
        "# Generate 3D coordinates\n",
        "mol = Chem.AddHs(mol)\n",
        "AllChem.EmbedMolecule(mol)\n",
        "AllChem.MMFFOptimizeMolecule(mol)\n",
        "\n",
        "# Initialize the viewer\n",
        "viewer = py3Dmol.view(width=300, height=300)\n",
        "\n",
        "# Add the molecule with color detection and atom symbols\n",
        "conf = mol.GetConformer()\n",
        "for atom in mol.GetAtoms():\n",
        "    atom_idx = atom.GetIdx()\n",
        "    pos = conf.GetAtomPosition(atom_idx)\n",
        "    atomic_num = atom.GetAtomicNum()\n",
        "\n",
        "    if atomic_num == 6:\n",
        "        color = 'gray'  # Carbon atoms are colored gray\n",
        "    elif atomic_num == 8:\n",
        "        color = 'red'   # Oxygen atoms are colored red\n",
        "    else:\n",
        "        color = 'blue'  # Other atoms are colored blue\n",
        "\n",
        "    viewer.addSphere({'center': {'x': pos.x, 'y': pos.y, 'z': pos.z},\n",
        "                      'radius': 0.5, 'color': color})\n",
        "    viewer.addLabel(atom.GetSymbol(), {'x': pos.x, 'y': pos.y, 'z': pos.z})\n",
        "\n",
        "# Display the viewer\n",
        "viewer.zoomTo()\n",
        "viewer.show()\n"
      ],
      "metadata": {
        "id": "BUCpmojzIZFY",
        "colab": {
          "base_uri": "https://localhost:8080/",
          "height": 317
        },
        "outputId": "1ca8ceab-228f-42d4-f94a-d866d0f86c01"
      },
      "execution_count": null,
      "outputs": [
        {
          "output_type": "display_data",
          "data": {
            "application/3dmoljs_load.v0": "<div id=\"3dmolviewer_17103143961528616\"  style=\"position: relative; width: 300px; height: 300px;\">\n        <p id=\"3dmolwarning_17103143961528616\" style=\"background-color:#ffcccc;color:black\">3Dmol.js failed to load for some reason.  Please check your browser console for error messages.<br></p>\n        </div>\n<script>\n\nvar loadScriptAsync = function(uri){\n  return new Promise((resolve, reject) => {\n    //this is to ignore the existence of requirejs amd\n    var savedexports, savedmodule;\n    if (typeof exports !== 'undefined') savedexports = exports;\n    else exports = {}\n    if (typeof module !== 'undefined') savedmodule = module;\n    else module = {}\n\n    var tag = document.createElement('script');\n    tag.src = uri;\n    tag.async = true;\n    tag.onload = () => {\n        exports = savedexports;\n        module = savedmodule;\n        resolve();\n    };\n  var firstScriptTag = document.getElementsByTagName('script')[0];\n  firstScriptTag.parentNode.insertBefore(tag, firstScriptTag);\n});\n};\n\nif(typeof $3Dmolpromise === 'undefined') {\n$3Dmolpromise = null;\n  $3Dmolpromise = loadScriptAsync('https://cdnjs.cloudflare.com/ajax/libs/3Dmol/2.1.0/3Dmol-min.js');\n}\n\nvar viewer_17103143961528616 = null;\nvar warn = document.getElementById(\"3dmolwarning_17103143961528616\");\nif(warn) {\n    warn.parentNode.removeChild(warn);\n}\n$3Dmolpromise.then(function() {\nviewer_17103143961528616 = $3Dmol.createViewer(document.getElementById(\"3dmolviewer_17103143961528616\"),{backgroundColor:\"white\"});\nviewer_17103143961528616.zoomTo();\n\tviewer_17103143961528616.addSphere({\"center\": {\"x\": -2.563431608127072, \"y\": -2.471129828437206, \"z\": -0.5916178376196637}, \"radius\": 0.5, \"color\": \"red\"});\n\tviewer_17103143961528616.addLabel(\"O\",{\"x\": -2.563431608127072, \"y\": -2.471129828437206, \"z\": -0.5916178376196637});\n\tviewer_17103143961528616.addSphere({\"center\": {\"x\": -1.3417692275718418, \"y\": -2.5021862404603743, \"z\": -0.3985095685134481}, \"radius\": 0.5, \"color\": \"blue\"});\n\tviewer_17103143961528616.addLabel(\"N\",{\"x\": -1.3417692275718418, \"y\": -2.5021862404603743, \"z\": -0.3985095685134481});\n\tviewer_17103143961528616.addSphere({\"center\": {\"x\": -0.6549956310929267, \"y\": -3.530720569213582, \"z\": -0.36426576602278965}, \"radius\": 0.5, \"color\": \"red\"});\n\tviewer_17103143961528616.addLabel(\"O\",{\"x\": -0.6549956310929267, \"y\": -3.530720569213582, \"z\": -0.36426576602278965});\n\tviewer_17103143961528616.addSphere({\"center\": {\"x\": -0.6534300309535017, \"y\": -1.2185459814981339, \"z\": -0.19407026750755255}, \"radius\": 0.5, \"color\": \"gray\"});\n\tviewer_17103143961528616.addLabel(\"C\",{\"x\": -0.6534300309535017, \"y\": -1.2185459814981339, \"z\": -0.19407026750755255});\n\tviewer_17103143961528616.addSphere({\"center\": {\"x\": 0.7315343138368773, \"y\": -1.204171880947021, \"z\": 0.028367728363732147}, \"radius\": 0.5, \"color\": \"gray\"});\n\tviewer_17103143961528616.addLabel(\"C\",{\"x\": 0.7315343138368773, \"y\": -1.204171880947021, \"z\": 0.028367728363732147});\n\tviewer_17103143961528616.addSphere({\"center\": {\"x\": 1.3782111828376087, \"y\": 0.025486184144864758, \"z\": 0.22217835751211212}, \"radius\": 0.5, \"color\": \"gray\"});\n\tviewer_17103143961528616.addLabel(\"C\",{\"x\": 1.3782111828376087, \"y\": 0.025486184144864758, \"z\": 0.22217835751211212});\n\tviewer_17103143961528616.addSphere({\"center\": {\"x\": 2.830052514477657, \"y\": 0.05234010289711884, \"z\": 0.45621008427278054}, \"radius\": 0.5, \"color\": \"blue\"});\n\tviewer_17103143961528616.addLabel(\"N\",{\"x\": 2.830052514477657, \"y\": 0.05234010289711884, \"z\": 0.45621008427278054});\n\tviewer_17103143961528616.addSphere({\"center\": {\"x\": 3.361767837382975, \"y\": 1.157041303183591, \"z\": 0.6224262755859319}, \"radius\": 0.5, \"color\": \"red\"});\n\tviewer_17103143961528616.addLabel(\"O\",{\"x\": 3.361767837382975, \"y\": 1.157041303183591, \"z\": 0.6224262755859319});\n\tviewer_17103143961528616.addSphere({\"center\": {\"x\": 3.4265185351946, \"y\": -1.031493773424573, \"z\": 0.4718594915197214}, \"radius\": 0.5, \"color\": \"red\"});\n\tviewer_17103143961528616.addLabel(\"O\",{\"x\": 3.4265185351946, \"y\": -1.031493773424573, \"z\": 0.4718594915197214});\n\tviewer_17103143961528616.addSphere({\"center\": {\"x\": 0.6595151360747072, \"y\": 1.2298929048431166, \"z\": 0.1958827097807867}, \"radius\": 0.5, \"color\": \"gray\"});\n\tviewer_17103143961528616.addLabel(\"C\",{\"x\": 0.6595151360747072, \"y\": 1.2298929048431166, \"z\": 0.1958827097807867});\n\tviewer_17103143961528616.addSphere({\"center\": {\"x\": -0.7247833021906479, \"y\": 1.193055821134097, \"z\": -0.028103645074517777}, \"radius\": 0.5, \"color\": \"gray\"});\n\tviewer_17103143961528616.addLabel(\"C\",{\"x\": -0.7247833021906479, \"y\": 1.193055821134097, \"z\": -0.028103645074517777});\n\tviewer_17103143961528616.addSphere({\"center\": {\"x\": -1.4882836584948578, \"y\": 2.4498489788873674, \"z\": -0.05770138600168989}, \"radius\": 0.5, \"color\": \"blue\"});\n\tviewer_17103143961528616.addLabel(\"N\",{\"x\": -1.4882836584948578, \"y\": 2.4498489788873674, \"z\": -0.05770138600168989});\n\tviewer_17103143961528616.addSphere({\"center\": {\"x\": -2.706792986564149, \"y\": 2.3736789262086395, \"z\": -0.2580651672645864}, \"radius\": 0.5, \"color\": \"red\"});\n\tviewer_17103143961528616.addLabel(\"O\",{\"x\": -2.706792986564149, \"y\": 2.3736789262086395, \"z\": -0.2580651672645864});\n\tviewer_17103143961528616.addSphere({\"center\": {\"x\": -0.8630674951718318, \"y\": 3.502635577562906, \"z\": 0.11966512806236032}, \"radius\": 0.5, \"color\": \"red\"});\n\tviewer_17103143961528616.addLabel(\"O\",{\"x\": -0.8630674951718318, \"y\": 3.502635577562906, \"z\": 0.11966512806236032});\n\tviewer_17103143961528616.addSphere({\"center\": {\"x\": -1.391050328709991, \"y\": -0.025725947665562073, \"z\": -0.22424597069449886}, \"radius\": 0.5, \"color\": \"gray\"});\n\tviewer_17103143961528616.addLabel(\"C\",{\"x\": -1.391050328709991, \"y\": -0.025725947665562073, \"z\": -0.22424597069449886});\n\tviewer_17103143961528616.addSphere({\"center\": {\"x\": 1.2975684862216017, \"y\": -2.135908462870995, \"z\": 0.05031028426311739}, \"radius\": 0.5, \"color\": \"blue\"});\n\tviewer_17103143961528616.addLabel(\"H\",{\"x\": 1.2975684862216017, \"y\": -2.135908462870995, \"z\": 0.05031028426311739});\n\tviewer_17103143961528616.addSphere({\"center\": {\"x\": 1.169826468415101, \"y\": 2.1815356560325916, \"z\": 0.347432539212927}, \"radius\": 0.5, \"color\": \"blue\"});\n\tviewer_17103143961528616.addLabel(\"H\",{\"x\": 1.169826468415101, \"y\": 2.1815356560325916, \"z\": 0.347432539212927});\n\tviewer_17103143961528616.addSphere({\"center\": {\"x\": -2.4673902055643917, \"y\": -0.04563277037652537, \"z\": -0.39775298987470087}, \"radius\": 0.5, \"color\": \"blue\"});\n\tviewer_17103143961528616.addLabel(\"H\",{\"x\": -2.4673902055643917, \"y\": -0.04563277037652537, \"z\": -0.39775298987470087});\n\tviewer_17103143961528616.zoomTo();\nviewer_17103143961528616.render();\n});\n</script>",
            "text/html": [
              "<div id=\"3dmolviewer_17103143961528616\"  style=\"position: relative; width: 300px; height: 300px;\">\n",
              "        <p id=\"3dmolwarning_17103143961528616\" style=\"background-color:#ffcccc;color:black\">3Dmol.js failed to load for some reason.  Please check your browser console for error messages.<br></p>\n",
              "        </div>\n",
              "<script>\n",
              "\n",
              "var loadScriptAsync = function(uri){\n",
              "  return new Promise((resolve, reject) => {\n",
              "    //this is to ignore the existence of requirejs amd\n",
              "    var savedexports, savedmodule;\n",
              "    if (typeof exports !== 'undefined') savedexports = exports;\n",
              "    else exports = {}\n",
              "    if (typeof module !== 'undefined') savedmodule = module;\n",
              "    else module = {}\n",
              "\n",
              "    var tag = document.createElement('script');\n",
              "    tag.src = uri;\n",
              "    tag.async = true;\n",
              "    tag.onload = () => {\n",
              "        exports = savedexports;\n",
              "        module = savedmodule;\n",
              "        resolve();\n",
              "    };\n",
              "  var firstScriptTag = document.getElementsByTagName('script')[0];\n",
              "  firstScriptTag.parentNode.insertBefore(tag, firstScriptTag);\n",
              "});\n",
              "};\n",
              "\n",
              "if(typeof $3Dmolpromise === 'undefined') {\n",
              "$3Dmolpromise = null;\n",
              "  $3Dmolpromise = loadScriptAsync('https://cdnjs.cloudflare.com/ajax/libs/3Dmol/2.1.0/3Dmol-min.js');\n",
              "}\n",
              "\n",
              "var viewer_17103143961528616 = null;\n",
              "var warn = document.getElementById(\"3dmolwarning_17103143961528616\");\n",
              "if(warn) {\n",
              "    warn.parentNode.removeChild(warn);\n",
              "}\n",
              "$3Dmolpromise.then(function() {\n",
              "viewer_17103143961528616 = $3Dmol.createViewer(document.getElementById(\"3dmolviewer_17103143961528616\"),{backgroundColor:\"white\"});\n",
              "viewer_17103143961528616.zoomTo();\n",
              "\tviewer_17103143961528616.addSphere({\"center\": {\"x\": -2.563431608127072, \"y\": -2.471129828437206, \"z\": -0.5916178376196637}, \"radius\": 0.5, \"color\": \"red\"});\n",
              "\tviewer_17103143961528616.addLabel(\"O\",{\"x\": -2.563431608127072, \"y\": -2.471129828437206, \"z\": -0.5916178376196637});\n",
              "\tviewer_17103143961528616.addSphere({\"center\": {\"x\": -1.3417692275718418, \"y\": -2.5021862404603743, \"z\": -0.3985095685134481}, \"radius\": 0.5, \"color\": \"blue\"});\n",
              "\tviewer_17103143961528616.addLabel(\"N\",{\"x\": -1.3417692275718418, \"y\": -2.5021862404603743, \"z\": -0.3985095685134481});\n",
              "\tviewer_17103143961528616.addSphere({\"center\": {\"x\": -0.6549956310929267, \"y\": -3.530720569213582, \"z\": -0.36426576602278965}, \"radius\": 0.5, \"color\": \"red\"});\n",
              "\tviewer_17103143961528616.addLabel(\"O\",{\"x\": -0.6549956310929267, \"y\": -3.530720569213582, \"z\": -0.36426576602278965});\n",
              "\tviewer_17103143961528616.addSphere({\"center\": {\"x\": -0.6534300309535017, \"y\": -1.2185459814981339, \"z\": -0.19407026750755255}, \"radius\": 0.5, \"color\": \"gray\"});\n",
              "\tviewer_17103143961528616.addLabel(\"C\",{\"x\": -0.6534300309535017, \"y\": -1.2185459814981339, \"z\": -0.19407026750755255});\n",
              "\tviewer_17103143961528616.addSphere({\"center\": {\"x\": 0.7315343138368773, \"y\": -1.204171880947021, \"z\": 0.028367728363732147}, \"radius\": 0.5, \"color\": \"gray\"});\n",
              "\tviewer_17103143961528616.addLabel(\"C\",{\"x\": 0.7315343138368773, \"y\": -1.204171880947021, \"z\": 0.028367728363732147});\n",
              "\tviewer_17103143961528616.addSphere({\"center\": {\"x\": 1.3782111828376087, \"y\": 0.025486184144864758, \"z\": 0.22217835751211212}, \"radius\": 0.5, \"color\": \"gray\"});\n",
              "\tviewer_17103143961528616.addLabel(\"C\",{\"x\": 1.3782111828376087, \"y\": 0.025486184144864758, \"z\": 0.22217835751211212});\n",
              "\tviewer_17103143961528616.addSphere({\"center\": {\"x\": 2.830052514477657, \"y\": 0.05234010289711884, \"z\": 0.45621008427278054}, \"radius\": 0.5, \"color\": \"blue\"});\n",
              "\tviewer_17103143961528616.addLabel(\"N\",{\"x\": 2.830052514477657, \"y\": 0.05234010289711884, \"z\": 0.45621008427278054});\n",
              "\tviewer_17103143961528616.addSphere({\"center\": {\"x\": 3.361767837382975, \"y\": 1.157041303183591, \"z\": 0.6224262755859319}, \"radius\": 0.5, \"color\": \"red\"});\n",
              "\tviewer_17103143961528616.addLabel(\"O\",{\"x\": 3.361767837382975, \"y\": 1.157041303183591, \"z\": 0.6224262755859319});\n",
              "\tviewer_17103143961528616.addSphere({\"center\": {\"x\": 3.4265185351946, \"y\": -1.031493773424573, \"z\": 0.4718594915197214}, \"radius\": 0.5, \"color\": \"red\"});\n",
              "\tviewer_17103143961528616.addLabel(\"O\",{\"x\": 3.4265185351946, \"y\": -1.031493773424573, \"z\": 0.4718594915197214});\n",
              "\tviewer_17103143961528616.addSphere({\"center\": {\"x\": 0.6595151360747072, \"y\": 1.2298929048431166, \"z\": 0.1958827097807867}, \"radius\": 0.5, \"color\": \"gray\"});\n",
              "\tviewer_17103143961528616.addLabel(\"C\",{\"x\": 0.6595151360747072, \"y\": 1.2298929048431166, \"z\": 0.1958827097807867});\n",
              "\tviewer_17103143961528616.addSphere({\"center\": {\"x\": -0.7247833021906479, \"y\": 1.193055821134097, \"z\": -0.028103645074517777}, \"radius\": 0.5, \"color\": \"gray\"});\n",
              "\tviewer_17103143961528616.addLabel(\"C\",{\"x\": -0.7247833021906479, \"y\": 1.193055821134097, \"z\": -0.028103645074517777});\n",
              "\tviewer_17103143961528616.addSphere({\"center\": {\"x\": -1.4882836584948578, \"y\": 2.4498489788873674, \"z\": -0.05770138600168989}, \"radius\": 0.5, \"color\": \"blue\"});\n",
              "\tviewer_17103143961528616.addLabel(\"N\",{\"x\": -1.4882836584948578, \"y\": 2.4498489788873674, \"z\": -0.05770138600168989});\n",
              "\tviewer_17103143961528616.addSphere({\"center\": {\"x\": -2.706792986564149, \"y\": 2.3736789262086395, \"z\": -0.2580651672645864}, \"radius\": 0.5, \"color\": \"red\"});\n",
              "\tviewer_17103143961528616.addLabel(\"O\",{\"x\": -2.706792986564149, \"y\": 2.3736789262086395, \"z\": -0.2580651672645864});\n",
              "\tviewer_17103143961528616.addSphere({\"center\": {\"x\": -0.8630674951718318, \"y\": 3.502635577562906, \"z\": 0.11966512806236032}, \"radius\": 0.5, \"color\": \"red\"});\n",
              "\tviewer_17103143961528616.addLabel(\"O\",{\"x\": -0.8630674951718318, \"y\": 3.502635577562906, \"z\": 0.11966512806236032});\n",
              "\tviewer_17103143961528616.addSphere({\"center\": {\"x\": -1.391050328709991, \"y\": -0.025725947665562073, \"z\": -0.22424597069449886}, \"radius\": 0.5, \"color\": \"gray\"});\n",
              "\tviewer_17103143961528616.addLabel(\"C\",{\"x\": -1.391050328709991, \"y\": -0.025725947665562073, \"z\": -0.22424597069449886});\n",
              "\tviewer_17103143961528616.addSphere({\"center\": {\"x\": 1.2975684862216017, \"y\": -2.135908462870995, \"z\": 0.05031028426311739}, \"radius\": 0.5, \"color\": \"blue\"});\n",
              "\tviewer_17103143961528616.addLabel(\"H\",{\"x\": 1.2975684862216017, \"y\": -2.135908462870995, \"z\": 0.05031028426311739});\n",
              "\tviewer_17103143961528616.addSphere({\"center\": {\"x\": 1.169826468415101, \"y\": 2.1815356560325916, \"z\": 0.347432539212927}, \"radius\": 0.5, \"color\": \"blue\"});\n",
              "\tviewer_17103143961528616.addLabel(\"H\",{\"x\": 1.169826468415101, \"y\": 2.1815356560325916, \"z\": 0.347432539212927});\n",
              "\tviewer_17103143961528616.addSphere({\"center\": {\"x\": -2.4673902055643917, \"y\": -0.04563277037652537, \"z\": -0.39775298987470087}, \"radius\": 0.5, \"color\": \"blue\"});\n",
              "\tviewer_17103143961528616.addLabel(\"H\",{\"x\": -2.4673902055643917, \"y\": -0.04563277037652537, \"z\": -0.39775298987470087});\n",
              "\tviewer_17103143961528616.zoomTo();\n",
              "viewer_17103143961528616.render();\n",
              "});\n",
              "</script>"
            ]
          },
          "metadata": {}
        }
      ]
    },
    {
      "cell_type": "code",
      "source": [
        "#ISOMERS\n",
        "\n",
        "from rdkit import Chem\n",
        "from rdkit.Chem import AllChem\n",
        "from rdkit.Chem import Draw\n",
        "\n",
        "def generate_isomers(smiles):\n",
        "    try:\n",
        "        # Generate a molecule from the SMILES string\n",
        "        mol = Chem.MolFromSmiles(smiles)\n",
        "        if mol is None:\n",
        "            raise ValueError(\"Invalid SMILES string\")\n",
        "\n",
        "        isomers = []\n",
        "\n",
        "        # Generate structural isomers\n",
        "        isomers.extend(generate_structural_isomers(mol))\n",
        "\n",
        "        # Generate stereoisomers\n",
        "        isomers.extend(generate_stereoisomers(mol))\n",
        "\n",
        "        return isomers\n",
        "    except Exception as e:\n",
        "        raise ValueError(f\"Error generating isomers: {e}\")\n",
        "\n",
        "def generate_structural_isomers(mol):\n",
        "    isomers = []\n",
        "    isomeric_smiles = Chem.MolToSmiles(mol, isomericSmiles=True)\n",
        "    isomers.append((isomeric_smiles, \"Structural\"))\n",
        "    return isomers\n",
        "\n",
        "def generate_stereoisomers(mol):\n",
        "    isomers = []\n",
        "    stereo_mols = AllChem.EnumerateStereoisomers(mol)\n",
        "    for stereo_mol in stereo_mols:\n",
        "        isomers.append((Chem.MolToSmiles(stereo_mol, isomericSmiles=True), \"Stereoisomer\"))\n",
        "    return isomers\n",
        "\n",
        "try:\n",
        "    user_input_smiles = input(\"Enter a SMILES string: \")\n",
        "    isomers = generate_isomers(user_input_smiles)\n",
        "    print(\"Generated isomers:\")\n",
        "    for isomer, isomer_type in isomers:\n",
        "        print(f\"{isomer_type}: {isomer}\")\n",
        "except ValueError as ve:\n",
        "    print(ve)\n"
      ],
      "metadata": {
        "colab": {
          "base_uri": "https://localhost:8080/"
        },
        "id": "kYYPylCCS-JT",
        "outputId": "97381d6b-90c0-46ee-be8e-c51e22364eca"
      },
      "execution_count": null,
      "outputs": [
        {
          "output_type": "stream",
          "name": "stdout",
          "text": [
            "Enter a SMILES string: COC1=CC(=CC(=C1OC)OC)CC2=CN=C(N=C2N)N\n",
            "Generated isomers:\n",
            "Structural: COc1cc(Cc2cnc(N)nc2N)cc(OC)c1OC\n",
            "Stereoisomer: COc1cc(Cc2cnc(N)nc2N)cc(OC)c1OC\n"
          ]
        }
      ]
    },
    {
      "cell_type": "code",
      "source": [
        "from rdkit import Chem\n",
        "from rdkit.Chem.AllChem import EnumerateStereoisomers\n",
        "\n",
        "# Given SMILES string\n",
        "smiles = \"Nc1c([N+](=O)[O-])cc([N+](=O)[O-])cc1[N+](=O)[O-]\"\n",
        "\n",
        "# Convert SMILES string to RDKit molecule object\n",
        "mol = Chem.MolFromSmiles(smiles)\n",
        "\n",
        "# Generate isomeric SMILES\n",
        "isomeric_mols = list(EnumerateStereoisomers(mol))\n",
        "\n",
        "# Convert isomeric SMILES to 2D structures\n",
        "images = [Chem.Draw.MolToImage(isomer) for isomer in isomeric_mols]\n",
        "\n",
        "# Draw and display all isomers\n",
        "for img in images:\n",
        "    display(img)"
      ],
      "metadata": {
        "colab": {
          "base_uri": "https://localhost:8080/",
          "height": 317
        },
        "id": "1jSOOYmLQMfP",
        "outputId": "2af7b560-c677-4ba4-a2f7-4dc4353ab3b5"
      },
      "execution_count": null,
      "outputs": [
        {
          "output_type": "display_data",
          "data": {
            "text/plain": [
              "<PIL.PngImagePlugin.PngImageFile image mode=RGB size=300x300>"
            ],
            "image/png": "[encoded data removed]"
          },
          "metadata": {}
        }
      ]
    },
    {
      "cell_type": "code",
      "source": [
        "from rdkit import Chem\n",
        "from rdkit.Chem import AllChem\n",
        "from rdkit.Chem import Descriptors\n",
        "from rdkit.Chem import Draw\n",
        "\n",
        "def homo_e(smiles):\n",
        "    mol = Chem.MolFromSmiles(smiles)\n",
        "    homo_energy = Descriptors.MolWt(mol)\n",
        "    print(\"HOMO Energy:\", homo_energy)\n",
        "    return homo_energy\n",
        "\n",
        "def pipi_stacking(smiles):\n",
        "    mol = Chem.MolFromSmiles(smiles)\n",
        "    aromatic_rings = Chem.GetSSSR(mol)\n",
        "    homo_energy = Descriptors.MolWt(mol)\n",
        "\n",
        "    pipi_stacking_potential = len(aromatic_rings) * homo_energy\n",
        "    print(\"Aromatic rings:\", len(aromatic_rings))\n",
        "    img = Draw.MolToImage(mol)\n",
        "    img.show()\n",
        "\n",
        "    print(\"pipi Stacking Potential:\", pipi_stacking_potential)\n",
        "    return pipi_stacking_potential\n",
        "\n",
        "smiles = input(\"Enter a SMILES string: \")\n",
        "pipi_stacking(smiles)\n"
      ],
      "metadata": {
        "colab": {
          "base_uri": "https://localhost:8080/"
        },
        "id": "s_A5CkB0ilz2",
        "outputId": "0cf95334-6784-423d-a392-96000c9fb2cb"
      },
      "execution_count": null,
      "outputs": [
        {
          "output_type": "stream",
          "name": "stdout",
          "text": [
            "Enter a SMILES string: C1=CC(=CC=C1N)S(=O)(=O)N\n",
            "Aromatic rings: 1\n",
            "pipi Stacking Potential: 172.20899999999997\n"
          ]
        },
        {
          "output_type": "execute_result",
          "data": {
            "text/plain": [
              "172.20899999999997"
            ]
          },
          "metadata": {},
          "execution_count": 36
        }
      ]
    },
    {
      "cell_type": "code",
      "source": [
        "#10-explosive or not\n",
        "\n",
        "from rdkit import Chem\n",
        "\n",
        "# Given SMILES string\n",
        "smiles = \"[O-]Cl(=O)(=O)=O.[K+]\"\n",
        "\n",
        "# Convert SMILES string to RDKit molecule object\n",
        "mol = Chem.MolFromSmiles(smiles)\n",
        "img = Draw.MolToImage(mol)\n",
        "img.show()\n",
        "# Check for N-NO2 or O-NO2 groups\n",
        "has_n_no2 = False\n",
        "has_o_no2 = False\n",
        "\n",
        "# Loop over atoms in the molecule\n",
        "for atom in mol.GetAtoms():\n",
        "    if atom.GetSymbol() == 'N':\n",
        "        for neighbor in atom.GetNeighbors():\n",
        "            if neighbor.GetSymbol() == 'O' and neighbor.GetDegree() == 1:\n",
        "                has_n_no2 = True\n",
        "                break\n",
        "    elif atom.GetSymbol() == 'O':\n",
        "        for neighbor in atom.GetNeighbors():\n",
        "            if neighbor.GetSymbol() == 'N' and neighbor.GetDegree() == 1:\n",
        "                has_o_no2 = True\n",
        "                break\n",
        "\n",
        "# Check if the compound is used for explosives\n",
        "if has_n_no2 or has_o_no2:\n",
        "    print(\"This compound is used for explosives.\")\n",
        "else:\n",
        "    print(\"This compound is not used for explosives.\")\n"
      ],
      "metadata": {
        "colab": {
          "base_uri": "https://localhost:8080/"
        },
        "id": "ts080BLfGq6j",
        "outputId": "6a94f7a2-78bb-4953-a45e-724291334ba6"
      },
      "execution_count": null,
      "outputs": [
        {
          "output_type": "stream",
          "name": "stdout",
          "text": [
            "This compound is not used for explosives.\n"
          ]
        }
      ]
    },
    {
      "cell_type": "markdown",
      "source": [],
      "metadata": {
        "id": "VyKd9NayK41K"
      }
    },
    {
      "cell_type": "code",
      "source": [
        "# WRONG CODE\n",
        "\n",
        "from rdkit import Chem\n",
        "from rdkit.Chem import AllChem\n",
        "\n",
        "# Given SMILES string\n",
        "smiles = \"CC(C)NCC(COC1=CC=CC2=CC=CC=C21)O\"\n",
        "\n",
        "# Convert SMILES string to RDKit molecule object\n",
        "mol = Chem.MolFromSmiles(smiles)\n",
        "\n",
        "# Generate 3D coordinates\n",
        "mol = Chem.AddHs(mol)\n",
        "AllChem.EmbedMolecule(mol, AllChem.ETKDG())\n",
        "\n",
        "# Calculate partial charges using Gasteiger-Marsili method\n",
        "AllChem.ComputeGasteigerCharges(mol)\n",
        "\n",
        "# Find the atoms involved in the nitro group (N-NO2)\n",
        "nitro_atoms = []\n",
        "for atom in mol.GetAtoms():\n",
        "    if atom.GetSymbol() == 'N':\n",
        "        for neighbor in atom.GetNeighbors():\n",
        "            if neighbor.GetSymbol() == 'O' and neighbor.GetExplicitValence() == 2:\n",
        "                nitro_atoms.extend([atom.GetIdx(), neighbor.GetIdx()])\n",
        "\n",
        "# Calculate the total charge on the nitro group\n",
        "nitro_charge = sum([float(mol.GetAtomWithIdx(idx).GetProp('_GasteigerCharge')) for idx in nitro_atoms if mol.GetAtomWithIdx(idx).HasProp('_GasteigerCharge')])\n",
        "\n",
        "# Calculate the ESP charge on the nitro group\n",
        "nitro_esp_charge = sum([float(mol.GetAtomWithIdx(idx).GetProp('_GasteigerPartialCharge')) for idx in nitro_atoms if mol.GetAtomWithIdx(idx).HasProp('_GasteigerPartialCharge')])\n",
        "\n",
        "print(f\"Total charge on the nitro group: {nitro_charge}\")\n",
        "print(f\"ESP charge on the nitro group: {nitro_esp_charge}\")\n"
      ],
      "metadata": {
        "colab": {
          "base_uri": "https://localhost:8080/"
        },
        "id": "FaJZT1O_wNaJ",
        "outputId": "ff3aba40-3da4-446c-81a0-ef2d1e86c1a9"
      },
      "execution_count": null,
      "outputs": [
        {
          "output_type": "stream",
          "name": "stdout",
          "text": [
            "Total charge on the nitro group: 0\n",
            "ESP charge on the nitro group: 0\n"
          ]
        }
      ]
    },
    {
      "cell_type": "code",
      "source": [
        "#11-Calculating ESP value from molecular formula/smiles(molecular formula gets converted to smiles)\n",
        "\n",
        "\n",
        "from rdkit import Chem\n",
        "from rdkit.Chem import AllChem\n",
        "import pubchempy as pcp\n",
        "\n",
        "def generate_isomers(molecular_formula):\n",
        "    try:\n",
        "        compound = pcp.get_compounds(molecular_formula, 'formula')[0]\n",
        "        canonical_smiles = compound.canonical_smiles\n",
        "\n",
        "        # Generate a molecular structure from the canonical SMILES\n",
        "        mol = Chem.MolFromSmiles(canonical_smiles)\n",
        "        if mol is None:\n",
        "            raise ValueError(\"Invalid canonical SMILES\")\n",
        "\n",
        "        # Generate isomeric SMILES representations\n",
        "        isomeric_mols = AllChem.EnumerateStereoisomers(mol)\n",
        "        isomeric_smiles_list = [Chem.MolToSmiles(isomeric, isomericSmiles=True) for isomeric in isomeric_mols]\n",
        "\n",
        "        return isomeric_smiles_list\n",
        "    except IndexError:\n",
        "        raise ValueError(\"Invalid molecular formula\")\n",
        "\n",
        "try:\n",
        "    user_input_formula = input(\"Enter a molecular formula: \")\n",
        "    isomeric_smiles_list = generate_isomers(user_input_formula)\n",
        "\n",
        "    for isomeric_smiles in isomeric_smiles_list:\n",
        "        mol = Chem.MolFromSmiles(isomeric_smiles)\n",
        "\n",
        "        if mol is None:\n",
        "            raise ValueError(\"Invalid SMILES string\")\n",
        "\n",
        "        # Generate 3D coordinates\n",
        "        mol = Chem.AddHs(mol)\n",
        "        AllChem.EmbedMolecule(mol, AllChem.ETKDG())\n",
        "\n",
        "        # Calculate partial charges using Gasteiger-Marsili method\n",
        "        AllChem.ComputeGasteigerCharges(mol)\n",
        "\n",
        "        # Find the atoms involved in the nitro group (N-NO2)\n",
        "        nitro_atoms = []\n",
        "        for atom in mol.GetAtoms():\n",
        "            if atom.GetSymbol() == 'N':\n",
        "                for neighbor in atom.GetNeighbors():\n",
        "                    if neighbor.GetSymbol() == 'O' and neighbor.GetExplicitValence() == 2:\n",
        "                        nitro_atoms.extend([atom.GetIdx(), neighbor.GetIdx()])\n",
        "\n",
        "        # Calculate the ESP charge on the nitro group\n",
        "        nitro_esp_charge = sum([atom.GetDoubleProp('_GasteigerCharge') for atom in mol.GetAtoms() if atom.GetIdx() in nitro_atoms and atom.HasProp('_GasteigerCharge')])\n",
        "\n",
        "        print(f\"Molecular formula: {user_input_formula}\")\n",
        "        print(f\"Generated isomeric SMILES: {isomeric_smiles}\")\n",
        "        print(f\"ESP charge on the nitro group: {nitro_esp_charge}\")\n",
        "except ValueError as ve:\n",
        "    print(ve)\n"
      ],
      "metadata": {
        "colab": {
          "base_uri": "https://localhost:8080/"
        },
        "id": "-dNFKHLXwzEj",
        "outputId": "6cef4430-fbd3-4e9d-9dc5-c93af3c31f92"
      },
      "execution_count": null,
      "outputs": [
        {
          "output_type": "stream",
          "name": "stdout",
          "text": [
            "Enter a molecular formula: C2H5NH2\n",
            "Molecular formula: C2H5NH2\n",
            "Generated isomeric SMILES: CNC\n",
            "ESP charge on the nitro group: 0\n"
          ]
        }
      ]
    }
  ]
}
